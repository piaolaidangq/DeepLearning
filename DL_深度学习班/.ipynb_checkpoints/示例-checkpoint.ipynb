{
 "cells": [
  {
   "cell_type": "code",
   "execution_count": 1,
   "metadata": {},
   "outputs": [
    {
     "name": "stderr",
     "output_type": "stream",
     "text": [
      "WARNING: Logging before flag parsing goes to stderr.\n",
      "W0821 21:54:08.340471 21424 deprecation.py:323] From <ipython-input-1-ea9b187314bc>:5: read_data_sets (from tensorflow.contrib.learn.python.learn.datasets.mnist) is deprecated and will be removed in a future version.\n",
      "Instructions for updating:\n",
      "Please use alternatives such as official/mnist/dataset.py from tensorflow/models.\n",
      "W0821 21:54:08.342471 21424 deprecation.py:323] From E:\\wk\\anaconda3\\lib\\site-packages\\tensorflow\\contrib\\learn\\python\\learn\\datasets\\mnist.py:260: maybe_download (from tensorflow.contrib.learn.python.learn.datasets.base) is deprecated and will be removed in a future version.\n",
      "Instructions for updating:\n",
      "Please write your own downloading logic.\n",
      "W0821 21:54:08.346471 21424 deprecation.py:323] From E:\\wk\\anaconda3\\lib\\site-packages\\tensorflow\\contrib\\learn\\python\\learn\\datasets\\base.py:252: _internal_retry.<locals>.wrap.<locals>.wrapped_fn (from tensorflow.contrib.learn.python.learn.datasets.base) is deprecated and will be removed in a future version.\n",
      "Instructions for updating:\n",
      "Please use urllib or similar directly.\n",
      "W0821 21:54:09.560540 21424 deprecation.py:323] From E:\\wk\\anaconda3\\lib\\site-packages\\tensorflow\\contrib\\learn\\python\\learn\\datasets\\mnist.py:262: extract_images (from tensorflow.contrib.learn.python.learn.datasets.mnist) is deprecated and will be removed in a future version.\n",
      "Instructions for updating:\n",
      "Please use tf.data to implement this functionality.\n"
     ]
    },
    {
     "name": "stdout",
     "output_type": "stream",
     "text": [
      "Successfully downloaded train-images-idx3-ubyte.gz 9912422 bytes.\n",
      "Extracting MNIST_data\\train-images-idx3-ubyte.gz\n"
     ]
    },
    {
     "name": "stderr",
     "output_type": "stream",
     "text": [
      "W0821 21:54:10.496594 21424 deprecation.py:323] From E:\\wk\\anaconda3\\lib\\site-packages\\tensorflow\\contrib\\learn\\python\\learn\\datasets\\mnist.py:267: extract_labels (from tensorflow.contrib.learn.python.learn.datasets.mnist) is deprecated and will be removed in a future version.\n",
      "Instructions for updating:\n",
      "Please use tf.data to implement this functionality.\n",
      "W0821 21:54:10.501594 21424 deprecation.py:323] From E:\\wk\\anaconda3\\lib\\site-packages\\tensorflow\\contrib\\learn\\python\\learn\\datasets\\mnist.py:110: dense_to_one_hot (from tensorflow.contrib.learn.python.learn.datasets.mnist) is deprecated and will be removed in a future version.\n",
      "Instructions for updating:\n",
      "Please use tf.one_hot on tensors.\n"
     ]
    },
    {
     "name": "stdout",
     "output_type": "stream",
     "text": [
      "Successfully downloaded train-labels-idx1-ubyte.gz 28881 bytes.\n",
      "Extracting MNIST_data\\train-labels-idx1-ubyte.gz\n",
      "Successfully downloaded t10k-images-idx3-ubyte.gz 1648877 bytes.\n",
      "Extracting MNIST_data\\t10k-images-idx3-ubyte.gz\n"
     ]
    },
    {
     "name": "stderr",
     "output_type": "stream",
     "text": [
      "W0821 21:54:11.747665 21424 deprecation.py:323] From E:\\wk\\anaconda3\\lib\\site-packages\\tensorflow\\contrib\\learn\\python\\learn\\datasets\\mnist.py:290: DataSet.__init__ (from tensorflow.contrib.learn.python.learn.datasets.mnist) is deprecated and will be removed in a future version.\n",
      "Instructions for updating:\n",
      "Please use alternatives such as official/mnist/dataset.py from tensorflow/models.\n"
     ]
    },
    {
     "name": "stdout",
     "output_type": "stream",
     "text": [
      "Successfully downloaded t10k-labels-idx1-ubyte.gz 4542 bytes.\n",
      "Extracting MNIST_data\\t10k-labels-idx1-ubyte.gz\n"
     ]
    },
    {
     "name": "stderr",
     "output_type": "stream",
     "text": [
      "W0821 21:54:12.212692 21424 deprecation.py:323] From E:\\wk\\anaconda3\\lib\\site-packages\\tensorflow\\python\\util\\tf_should_use.py:193: initialize_all_variables (from tensorflow.python.ops.variables) is deprecated and will be removed after 2017-03-02.\n",
      "Instructions for updating:\n",
      "Use `tf.global_variables_initializer` instead.\n"
     ]
    },
    {
     "name": "stdout",
     "output_type": "stream",
     "text": [
      "====> 58.0499\n",
      "====> 11.1022\n",
      "====> 6.08205\n",
      "====> 4.80925\n",
      "====> 17.7561\n",
      "====> 5.50429\n",
      "====> 9.91585\n",
      "====> 4.00744\n",
      "====> 8.2428\n",
      "====> 9.29281\n",
      "====> 7.07913\n",
      "====> 10.8487\n",
      "====> 1.6794\n",
      "====> 9.60284\n",
      "====> 1.98136\n",
      "====> 4.17504\n",
      "====> 7.19224\n",
      "====> 2.91295\n",
      "====> 5.84292\n",
      "====> 3.93781\n",
      "====> 4.00664\n",
      "====> 2.19477\n",
      "====> 4.40213\n",
      "====> 8.01615\n",
      "====> 5.05525\n",
      "====> 2.40782\n",
      "====> 3.48623\n",
      "====> 5.62622\n",
      "====> 14.5833\n",
      "====> 5.21967\n",
      "====> 3.28179\n",
      "====> 14.4138\n",
      "====> 9.32773\n",
      "====> 7.35274\n",
      "====> 11.5609\n",
      "====> 4.50901\n",
      "====> 8.29271\n",
      "====> 5.93399\n",
      "====> 6.59942\n",
      "====> 2.96661\n",
      "====> 5.92664\n",
      "====> 4.70226\n",
      "====> 5.41596\n",
      "====> 11.6503\n",
      "====> 3.45663\n",
      "====> 1.80767\n",
      "====> 3.693\n",
      "====> 3.933\n",
      "====> 1.88077\n",
      "====> 4.38609\n",
      "0.9211\n"
     ]
    }
   ],
   "source": [
    "import tensorflow as tf\n",
    "from tensorflow.examples.tutorials.mnist import input_data\n",
    "\n",
    "sess = tf.InteractiveSession()    # 绑定设备（CPU或GPU）\n",
    "mnist = input_data.read_data_sets('MNIST_data', one_hot=True)\n",
    "\n",
    "x = tf.placeholder(tf.float32, shape=[None, 784])   # 输入节点\n",
    "y_ = tf.placeholder(tf.float32, shape=[None, 10])\n",
    "\n",
    "W = tf.Variable(tf.zeros([784,10]))    # 参数变量\n",
    "b = tf.Variable(tf.zeros([10]))\n",
    "\n",
    "y = tf.nn.softmax(tf.matmul(x, W) + b)  # 运算节点，softmax\n",
    "\n",
    "cross_entropy = -tf.reduce_sum(y_ * tf.log(y))  # 运算节点，互熵\n",
    "\n",
    "train_step = tf.train.GradientDescentOptimizer(0.01).minimize(cross_entropy)   # 优化模块\n",
    "\n",
    "sess.run(tf.initialize_all_variables())\n",
    "\n",
    "for i in range(5000):\n",
    "    batch = mnist.train.next_batch(32)\n",
    "    train_step.run(feed_dict={x:batch[0], y_:batch[1]})\n",
    "    if i%100 == 0:\n",
    "        loss = cross_entropy.eval(feed_dict={x:batch[0], y_:batch[1]})\n",
    "        print('====> %g' % loss)\n",
    "        \n",
    "correct_prediction = tf.equal(tf.argmax(y, 1), tf.argmax(y_, 1))\n",
    "accuracy = tf.reduce_mean(tf.cast(correct_prediction, tf.float32))\n",
    "print(accuracy.eval(feed_dict={x:mnist.test.images, y_:mnist.test.labels}))"
   ]
  }
 ],
 "metadata": {
  "kernelspec": {
   "display_name": "Python 3",
   "language": "python",
   "name": "python3"
  },
  "language_info": {
   "codemirror_mode": {
    "name": "ipython",
    "version": 3
   },
   "file_extension": ".py",
   "mimetype": "text/x-python",
   "name": "python",
   "nbconvert_exporter": "python",
   "pygments_lexer": "ipython3",
   "version": "3.7.0"
  }
 },
 "nbformat": 4,
 "nbformat_minor": 2
}
