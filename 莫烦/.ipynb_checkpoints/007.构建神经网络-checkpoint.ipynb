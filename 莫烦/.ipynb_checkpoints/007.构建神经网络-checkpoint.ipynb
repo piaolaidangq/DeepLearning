{
 "cells": [
  {
   "cell_type": "code",
   "execution_count": null,
   "metadata": {},
   "outputs": [],
   "source": [
    "import tensorflow as tf\n",
    "import numpy as np\n",
    "\n",
    "def add_layer(inputs, in_size, out_size, activation_function=None):  # 默认激活函数为线性函数\n",
    "    Weights = tf.Variable(tf.random_normal([in_size, out_size]))  # in_size行，out_size列的随机数矩阵\n",
    "    biases = tf.Variable(tf.zeros([1, out_size]) + 0.1)   # 推荐biases不为0\n",
    "    Wx_plus_b = tf.matmul(inputs, Weights) + biases\n",
    "    if activation_function is None:\n",
    "        outputs = Wx_plus_b\n",
    "    else:\n",
    "        outputs = activation_function(Wx_plus_b)\n",
    "    return outputs\n",
    "\n",
    "# 数据\n",
    "x_data = np.linspace(-1, 1, 300)[:, np.newaxis]\n",
    "noise = np.random,normal(0, 0.05, x_data.shape)\n",
    "y_data = np.square(x_data) - 0.5 + noise\n",
    "\n",
    "# 定义传入值\n",
    "xs = tf.placeholder([None,1])  # None表示无论输入多少个样例都可以，1表示x_data属性的维度\n",
    "ys = tf.placeholder([None,1])\n",
    "\n",
    "# 输入层（1个属性，1个神经元），隐藏层（10个神经元），输出层（1个属性，1个神经元）\n",
    "l1 = add_layer(xs, 1, 10, activation_function=tf.nn.relu)   # 隐藏层\n",
    "predition = add_layer(l1, 10, 1, activation_function=None)   # 输出层\n",
    "\n",
    "loss = tf.reduce_mean(tf.reduce_sum(tf.square(ys - predition), reduction_indices=[1]))# 损失，求均值（求和（（真实值-预测值）平方））\n",
    "train_step = tf.train.GradientDescentOptimizer(0.1).minimize(loss)  # 优化器以0.1的学习率减小loss\n",
    "\n",
    "init = tf.initialize_all_variables()\n",
    "sess = tf.Session()\n",
    "sess.run(init)\n",
    "\n",
    "for i range(1000):\n",
    "    sess.run(train_step, feed_dict={xs:x_data, ys:y_data})  # 用全部的数据来运算\n",
    "    \n",
    "    "
   ]
  },
  {
   "cell_type": "code",
   "execution_count": null,
   "metadata": {},
   "outputs": [],
   "source": []
  },
  {
   "cell_type": "markdown",
   "metadata": {},
   "source": [
    "### numpy.random.normal(loc=mu, scale=sigma, size)\n",
    "* mu，均值\n",
    "* sigma，标准差\n",
    "* size，数据shape，默认一个值"
   ]
  },
  {
   "cell_type": "code",
   "execution_count": 2,
   "metadata": {},
   "outputs": [
    {
     "data": {
      "text/plain": [
       "array([[ 2.88582899,  0.02097521, -0.16013517],\n",
       "       [ 0.56112627,  1.58334361,  2.62170639]])"
      ]
     },
     "execution_count": 2,
     "metadata": {},
     "output_type": "execute_result"
    }
   ],
   "source": [
    "import numpy as np\n",
    "\n",
    "np.random.normal(loc=1, scale=1, size=[2, 3])"
   ]
  },
  {
   "cell_type": "code",
   "execution_count": 3,
   "metadata": {
    "scrolled": true
   },
   "outputs": [
    {
     "data": {
      "text/plain": [
       "array([[-0.07957306, -0.1674699 ,  1.41638712],\n",
       "       [ 0.83654863,  0.02674805,  0.87989754]])"
      ]
     },
     "execution_count": 3,
     "metadata": {},
     "output_type": "execute_result"
    }
   ],
   "source": [
    "np.random.normal(1, 1, [2, 3])"
   ]
  },
  {
   "cell_type": "code",
   "execution_count": 4,
   "metadata": {},
   "outputs": [
    {
     "data": {
      "text/plain": [
       "-0.33042360230249807"
      ]
     },
     "execution_count": 4,
     "metadata": {},
     "output_type": "execute_result"
    }
   ],
   "source": [
    "np.random.normal(0, 1)"
   ]
  }
 ],
 "metadata": {
  "kernelspec": {
   "display_name": "Python 3",
   "language": "python",
   "name": "python3"
  },
  "language_info": {
   "codemirror_mode": {
    "name": "ipython",
    "version": 3
   },
   "file_extension": ".py",
   "mimetype": "text/x-python",
   "name": "python",
   "nbconvert_exporter": "python",
   "pygments_lexer": "ipython3",
   "version": "3.7.0"
  }
 },
 "nbformat": 4,
 "nbformat_minor": 2
}
