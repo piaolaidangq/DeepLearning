{
 "cells": [
  {
   "cell_type": "markdown",
   "metadata": {},
   "source": [
    "### 预测直线 $y = 0.1x+0.3$"
   ]
  },
  {
   "cell_type": "code",
   "execution_count": 18,
   "metadata": {},
   "outputs": [
    {
     "name": "stderr",
     "output_type": "stream",
     "text": [
      "W0822 09:25:28.342821 14580 deprecation.py:323] From E:\\wk\\anaconda3\\lib\\site-packages\\tensorflow\\python\\util\\tf_should_use.py:193: initialize_all_variables (from tensorflow.python.ops.variables) is deprecated and will be removed after 2017-03-02.\n",
      "Instructions for updating:\n",
      "Use `tf.global_variables_initializer` instead.\n"
     ]
    },
    {
     "name": "stdout",
     "output_type": "stream",
     "text": [
      "0 [0.00268188] [0.47856715]\n",
      "20 [0.05835615] [0.321913]\n",
      "40 [0.08842332] [0.30609167]\n",
      "60 [0.09678177] [0.30169344]\n",
      "80 [0.09910537] [0.30047077]\n",
      "100 [0.09975131] [0.30013087]\n",
      "120 [0.09993088] [0.3000364]\n",
      "140 [0.09998079] [0.30001011]\n",
      "160 [0.09999468] [0.3000028]\n",
      "180 [0.09999851] [0.3000008]\n",
      "200 [0.09999958] [0.30000025]\n"
     ]
    }
   ],
   "source": [
    "import tensorflow as tf\n",
    "import numpy as np\n",
    "\n",
    "'''cread data'''\n",
    "x_data = np.random.rand(100).astype(np.float32)  # 生成100个随机数，定义为float32类型（TensorFlow中大部分数据类型为float32）\n",
    "y_data = x_data*0.1 + 0.3  # 直线 y = 0.1x+0.3\n",
    "\n",
    "'''creat tensorflow structure start'''\n",
    "Weights = tf.Variable(tf.random_uniform([1], -1.0, 1.0))  # 生成随机数给权重变量，1维，与x_data维数对应，范围-1.0到1.0\n",
    "biases = tf.Variable(tf.zeros([1]))   # 生成0数组给偏置变量\n",
    "\n",
    "y = Weights*x_data+biases   # 预测y\n",
    "\n",
    "loss = tf.reduce_mean(tf.square(y-y_data))          # 损失函数\n",
    "optimizer = tf.train.GradientDescentOptimizer(0.5)  # 优化器，0.5学习率\n",
    "train = optimizer.minimize(loss)\n",
    "\n",
    "init = tf.initialize_all_variables()    # 初始化变量\n",
    "'''creat tensorflow structure end'''\n",
    "\n",
    "sess =  tf.Session()\n",
    "sess.run(init)       # 激活\n",
    "\n",
    "for step in range(201):\n",
    "    sess.run(train)\n",
    "    if step%20 == 0:             # 每隔20步输出权重和偏置值\n",
    "        print(step, sess.run(Weights), sess.run(biases))"
   ]
  },
  {
   "cell_type": "code",
   "execution_count": null,
   "metadata": {},
   "outputs": [],
   "source": []
  },
  {
   "cell_type": "markdown",
   "metadata": {},
   "source": [
    "### numpy.random.rand()\n",
    "* 均匀分布\n",
    "* 范围[0, 1)"
   ]
  },
  {
   "cell_type": "code",
   "execution_count": 5,
   "metadata": {},
   "outputs": [
    {
     "data": {
      "text/plain": [
       "array([0.80545471, 0.8132838 , 0.59762584])"
      ]
     },
     "execution_count": 5,
     "metadata": {},
     "output_type": "execute_result"
    }
   ],
   "source": [
    "import numpy as np\n",
    "\n",
    "np.random.rand(3)"
   ]
  },
  {
   "cell_type": "code",
   "execution_count": 7,
   "metadata": {},
   "outputs": [
    {
     "data": {
      "text/plain": [
       "array([[0.79955294, 0.56241534, 0.67593124],\n",
       "       [0.16356763, 0.71001303, 0.52741388]])"
      ]
     },
     "execution_count": 7,
     "metadata": {},
     "output_type": "execute_result"
    }
   ],
   "source": [
    "np.random.rand(2, 3)"
   ]
  },
  {
   "cell_type": "code",
   "execution_count": 8,
   "metadata": {},
   "outputs": [
    {
     "data": {
      "text/plain": [
       "array([[[0.17844452, 0.36553281, 0.90357176, 0.78932622],\n",
       "        [0.53421229, 0.13978213, 0.31328913, 0.75269785],\n",
       "        [0.74034518, 0.87650927, 0.56942711, 0.32820665]],\n",
       "\n",
       "       [[0.65900708, 0.00297576, 0.65815682, 0.10758077],\n",
       "        [0.23924928, 0.5804052 , 0.05882578, 0.64222382],\n",
       "        [0.07063111, 0.28341836, 0.62166267, 0.48983062]]])"
      ]
     },
     "execution_count": 8,
     "metadata": {},
     "output_type": "execute_result"
    }
   ],
   "source": [
    "np.random.rand(2, 3, 4)"
   ]
  },
  {
   "cell_type": "markdown",
   "metadata": {},
   "source": [
    "### numpy.random.randn()\n",
    "* 标准正态分布 "
   ]
  },
  {
   "cell_type": "code",
   "execution_count": 10,
   "metadata": {},
   "outputs": [
    {
     "data": {
      "text/plain": [
       "array([0.35738398, 0.02672184, 0.26278804])"
      ]
     },
     "execution_count": 10,
     "metadata": {},
     "output_type": "execute_result"
    }
   ],
   "source": [
    "np.random.randn(3)"
   ]
  },
  {
   "cell_type": "code",
   "execution_count": 11,
   "metadata": {},
   "outputs": [
    {
     "data": {
      "text/plain": [
       "array([[ 0.93106417, -0.38827155, -0.81768464],\n",
       "       [ 0.46475948, -0.27193259, -0.26922956]])"
      ]
     },
     "execution_count": 11,
     "metadata": {},
     "output_type": "execute_result"
    }
   ],
   "source": [
    "np.random.randn(2, 3)"
   ]
  },
  {
   "cell_type": "code",
   "execution_count": 12,
   "metadata": {},
   "outputs": [
    {
     "data": {
      "text/plain": [
       "array([[[ 0.19908743, -0.92495647,  0.9808552 , -0.47325937],\n",
       "        [ 1.54989882, -0.06039804, -2.31621729, -0.88064188],\n",
       "        [-1.74904243, -0.78667573,  0.5063645 , -1.07743022]],\n",
       "\n",
       "       [[ 0.61918609,  0.64494507, -1.64160336, -0.00268071],\n",
       "        [ 0.84450151,  0.24076325, -0.78033099,  1.47562072],\n",
       "        [-0.21921513, -1.0934552 , -0.79426854, -0.5698212 ]]])"
      ]
     },
     "execution_count": 12,
     "metadata": {},
     "output_type": "execute_result"
    }
   ],
   "source": [
    "np.random.randn(2, 3, 4)"
   ]
  }
 ],
 "metadata": {
  "kernelspec": {
   "display_name": "Python 3",
   "language": "python",
   "name": "python3"
  },
  "language_info": {
   "codemirror_mode": {
    "name": "ipython",
    "version": 3
   },
   "file_extension": ".py",
   "mimetype": "text/x-python",
   "name": "python",
   "nbconvert_exporter": "python",
   "pygments_lexer": "ipython3",
   "version": "3.7.0"
  }
 },
 "nbformat": 4,
 "nbformat_minor": 2
}
