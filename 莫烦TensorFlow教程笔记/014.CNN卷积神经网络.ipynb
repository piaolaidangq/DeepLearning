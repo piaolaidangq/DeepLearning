{
 "cells": [
  {
   "cell_type": "code",
   "execution_count": 2,
   "metadata": {},
   "outputs": [
    {
     "name": "stdout",
     "output_type": "stream",
     "text": [
      "Extracting MNIST_data\\train-images-idx3-ubyte.gz\n",
      "Extracting MNIST_data\\train-labels-idx1-ubyte.gz\n",
      "Extracting MNIST_data\\t10k-images-idx3-ubyte.gz\n",
      "Extracting MNIST_data\\t10k-labels-idx1-ubyte.gz\n",
      "0.1482\n",
      "0.804\n",
      "0.8787\n",
      "0.9103\n",
      "0.9228\n",
      "0.9298\n",
      "0.9385\n",
      "0.9451\n",
      "0.9481\n",
      "0.9492\n",
      "0.9556\n",
      "0.9566\n",
      "0.961\n",
      "0.9609\n",
      "0.9612\n",
      "0.964\n",
      "0.9642\n",
      "0.9641\n",
      "0.9651\n",
      "0.9689\n"
     ]
    }
   ],
   "source": [
    "import tensorflow as tf\n",
    "from tensorflow.examples.tutorials.mnist import input_data\n",
    "from keras import backend as K\n",
    "K.clear_session()          # 清除之前会话，防止jupyter缓存影响\n",
    "\n",
    "mnist = input_data.read_data_sets('MNIST_data', one_hot=True)   # 加载数据（若无则从网上下载，如有则加载本地）\n",
    "\n",
    "def compute_accuracy(v_xs, v_ys):\n",
    "    global prediction\n",
    "    y_pre = sess.run(prediction, feed_dict={xs:v_xs, keep_prob:1})\n",
    "    correct_prediction = tf.equal(tf.argmax(y_pre, 1), tf.argmax(v_ys, 1))\n",
    "    accuracy = tf.reduce_mean(tf.cast(correct_prediction, tf.float32))\n",
    "    result = sess.run(accuracy, feed_dict={xs:v_xs, ys:v_ys, keep_prob:1})\n",
    "    return result\n",
    "\n",
    "def weight_variable(shape):\n",
    "    initial = tf.truncated_normal(shape, stddev=0.1)    \n",
    "    return tf.Variable(initial)\n",
    " \n",
    "def bias_variable(shape):\n",
    "    initial = tf.constant(0.1, shape=shape)\n",
    "    return tf.Variable(initial)\n",
    "\n",
    "def conv2d(x, W):\n",
    "    '''卷积神经网络层\n",
    "    x：图片值\n",
    "    W：权重\n",
    "    '''\n",
    "    # strides[1, x_movement, y_movement, 1]\n",
    "    # 水平方向跨度为1，数值方向跨度为1；VALID边界不填充0（抽取长宽比原图片小），SAME边界填充0（抽取长宽与原图片相同）\n",
    "    return tf.nn.conv2d(x, W, strides=[1, 1, 1, 1], padding='SAME') \n",
    "\n",
    "def max_pool_2x2(x):\n",
    "    '''Pooling，防止跨度太大，丢失太多信息'''\n",
    "    return tf.nn.max_pool(x, ksize=[1, 2, 2, 1], strides=[1, 2, 2, 1], padding='SAME')\n",
    "\n",
    "# 定义传入值\n",
    "xs = tf.placeholder(tf.float32, [None, 784])   # 28×28\n",
    "ys = tf.placeholder(tf.float32, [None, 10])  \n",
    "keep_prob = tf.placeholder(tf.float32)\n",
    "x_image = tf.reshape(xs, [-1, 28, 28, 1])  # 图片为灰白，channal只有一个；若图片为彩色，则channal有3个\n",
    "\n",
    "# conv1 layer\n",
    "W_conv1 = weight_variable([5, 5, 1, 32])  # patch 5×5，in size 1（厚度），out size 32\n",
    "b_conv1 = bias_variable([32])\n",
    "h_conv1 = tf.nn.relu(conv2d(x_image, W_conv1)+b_conv1)   # output size 28×28×32\n",
    "h_pool1 = max_pool_2x2(h_conv1)                          # output size 14×14×32\n",
    "\n",
    "# conv2 layer\n",
    "W_conv2 = weight_variable([5, 5, 32, 64])  # patch 5×5，in size 32，out size 64\n",
    "b_conv2 = bias_variable([64])\n",
    "h_conv2 = tf.nn.relu(conv2d(h_pool1, W_conv2)+b_conv2)   # output size 14×14×64\n",
    "h_pool2 = max_pool_2x2(h_conv2)                          # output size 7×7×64\n",
    "\n",
    "# func1 layer\n",
    "W_fc1 = weight_variable([7*7*64, 1024])\n",
    "b_fc1 = bias_variable([1024])\n",
    "h_pool2_flat = tf.reshape(h_pool2, [-1, 7*7*64])         # [n_samples,7,7,64] ->> [n_samples,7*7*64]\n",
    "h_fc1 = tf.nn.relu(tf.matmul(h_pool2_flat,W_fc1)+b_fc1)\n",
    "h_fc1_drop = tf.nn.dropout(h_fc1, keep_prob)\n",
    "\n",
    "# func2 layer\n",
    "W_fc2 = weight_variable([1024, 10])\n",
    "b_fc2 = bias_variable([10])\n",
    "prediction = tf.nn.softmax(tf.matmul(h_fc1_drop,W_fc2)+b_fc2)\n",
    "\n",
    "# 损失函数\n",
    "cross_entropy = tf.reduce_mean(-tf.reduce_sum(ys*tf.log(prediction), reduction_indices=[1]))\n",
    "\n",
    "# 训练优化器\n",
    "train_step = tf.train.AdamOptimizer(1e-4).minimize(cross_entropy)\n",
    "\n",
    "sess = tf.Session()\n",
    "sess.run(tf.initialize_all_variables())\n",
    "\n",
    "for i in range(1000):\n",
    "    batch_xs, batch_ys = mnist.train.next_batch(100)     # 从整体数据中取出100个（不采用整体学习的方式，提高学习速度）\n",
    "    sess.run(train_step, feed_dict={xs:batch_xs, ys:batch_ys, keep_prob:0.5})\n",
    "    if i%50 == 0:\n",
    "        print(compute_accuracy(mnist.test.images, mnist.test.labels))"
   ]
  },
  {
   "cell_type": "code",
   "execution_count": null,
   "metadata": {},
   "outputs": [],
   "source": []
  },
  {
   "cell_type": "markdown",
   "metadata": {},
   "source": [
    "### tf.truncated_normal(shape, mean, stddev)，生成正态分布随机数\n",
    "**说明**：\n",
    "截断的产生正态分布的随机数，即随机数与均值的差值大于两倍的标准差，则重新生成。\n",
    "* shape表示生成张量的维度\n",
    "* mean表示均值\n",
    "* stddev表示标准差"
   ]
  },
  {
   "cell_type": "code",
   "execution_count": 4,
   "metadata": {},
   "outputs": [
    {
     "name": "stdout",
     "output_type": "stream",
     "text": [
      "[[-0.40872586 -1.4420594   0.79212666 -0.07308755 -0.09529229]\n",
      " [-1.488096    0.33658066 -0.66655415 -1.4347384   1.4839036 ]\n",
      " [ 1.611575    1.1346846  -1.505412    1.3316833  -0.69946456]\n",
      " [-1.063847   -0.48559287  0.73066175 -0.58961767 -0.39298633]\n",
      " [ 0.10171129 -0.3605982   0.36176232  0.12893438 -1.0475997 ]]\n"
     ]
    }
   ],
   "source": [
    "import tensorflow as tf;\n",
    "import numpy as np;\n",
    "import matplotlib.pyplot as plt;\n",
    " \n",
    "c = tf.truncated_normal(shape=[5,5], mean=0, stddev=1)\n",
    " \n",
    "with tf.Session() as sess:\n",
    "    print(sess.run(c))"
   ]
  },
  {
   "cell_type": "markdown",
   "metadata": {},
   "source": [
    "### tf.constant(value, shape)，生成常量"
   ]
  },
  {
   "cell_type": "code",
   "execution_count": 5,
   "metadata": {},
   "outputs": [
    {
     "name": "stdout",
     "output_type": "stream",
     "text": [
      "[[-1 -1 -1]\n",
      " [-1 -1 -1]]\n"
     ]
    }
   ],
   "source": [
    "import tensorflow as tf;\n",
    "import numpy as np;\n",
    "import matplotlib.pyplot as plt;\n",
    " \n",
    "c = tf.constant(-1, shape=[2,3])\n",
    " \n",
    "with tf.Session() as sess:\n",
    "    print(sess.run(c))"
   ]
  },
  {
   "cell_type": "markdown",
   "metadata": {},
   "source": [
    "#### TensorFlow报错：InvalidArgumentError: You must feed a value for placeholder tensor 'Placeholder_2' with dtype float\n",
    "\n",
    "**如下**：\n",
    "> InvalidArgumentError: You must feed a value for placeholder tensor 'Placeholder_2' with dtype float\n",
    ">\n",
    "> \t [[node Placeholder_2 (defined at <ipython-input-19-554db1d93dc1>:40) ]]\n",
    "\n",
    "**分析**：sess.run(train_step, feed_dict = {xs: batch_xs, ys: batch_ys}) 中 feed_dict 缺少参数\n",
    "\n",
    "**解决方式**：补充 keep_prob:0.5，如下所示\n",
    "\n",
    "> sess.run(train_step, feed_dict = {xs: batch_xs, ys: batch_ys, keep_prob: 0.5}) "
   ]
  }
 ],
 "metadata": {
  "kernelspec": {
   "display_name": "Python 3",
   "language": "python",
   "name": "python3"
  },
  "language_info": {
   "codemirror_mode": {
    "name": "ipython",
    "version": 3
   },
   "file_extension": ".py",
   "mimetype": "text/x-python",
   "name": "python",
   "nbconvert_exporter": "python",
   "pygments_lexer": "ipython3",
   "version": "3.7.0"
  }
 },
 "nbformat": 4,
 "nbformat_minor": 2
}
