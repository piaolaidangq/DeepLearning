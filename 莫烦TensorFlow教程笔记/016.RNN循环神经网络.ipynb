{
 "cells": [
  {
   "cell_type": "markdown",
   "metadata": {},
   "source": [
    "**背景**：序列化的数据（语音，自然语言）"
   ]
  },
  {
   "cell_type": "markdown",
   "metadata": {},
   "source": [
    "### RNN：\n",
    "\n",
    "![RNN](RNN.PNG)\n",
    "\n",
    "### LSTM：\n",
    "\n",
    "![LSTM](LSTM.PNG)"
   ]
  },
  {
   "cell_type": "markdown",
   "metadata": {},
   "source": [
    "考虑图片 0~9 数据，图片的每行数据为一个单元，一张图片有28行数据，则图片为步长为28的序列"
   ]
  },
  {
   "cell_type": "code",
   "execution_count": 2,
   "metadata": {},
   "outputs": [
    {
     "name": "stdout",
     "output_type": "stream",
     "text": [
      "Extracting MNIST_data\\train-images-idx3-ubyte.gz\n",
      "Extracting MNIST_data\\train-labels-idx1-ubyte.gz\n",
      "Extracting MNIST_data\\t10k-images-idx3-ubyte.gz\n",
      "Extracting MNIST_data\\t10k-labels-idx1-ubyte.gz\n",
      "0.125\n",
      "0.5078125\n",
      "0.7265625\n",
      "0.7890625\n",
      "0.875\n",
      "0.890625\n",
      "0.8984375\n",
      "0.8828125\n",
      "0.84375\n",
      "0.921875\n",
      "0.8671875\n",
      "0.9375\n",
      "0.8984375\n",
      "0.8828125\n",
      "0.9375\n",
      "0.96875\n",
      "0.953125\n",
      "0.953125\n",
      "0.9453125\n",
      "0.953125\n",
      "0.9140625\n",
      "0.9453125\n",
      "0.921875\n",
      "0.9296875\n",
      "0.9140625\n",
      "0.9765625\n",
      "0.96875\n",
      "0.953125\n",
      "0.984375\n",
      "0.9609375\n",
      "0.96875\n",
      "0.9765625\n",
      "0.9375\n",
      "0.9765625\n",
      "0.9609375\n",
      "0.9609375\n",
      "0.984375\n",
      "0.953125\n",
      "0.9765625\n",
      "0.9765625\n"
     ]
    }
   ],
   "source": [
    "import tensorflow as tf\n",
    "from tensorflow.examples.tutorials.mnist import input_data\n",
    "from keras import backend as K\n",
    "K.clear_session()          # 清除之前会话，防止jupyter缓存影响\n",
    "\n",
    "# 数据\n",
    "mnist = input_data.read_data_sets('MNIST_data', one_hot=True)\n",
    "\n",
    "# 超参数（hyperparameters）\n",
    "lr = 0.001                    # 学习率\n",
    "training_iters = 100000       # 循环次数\n",
    "batch_size = 128              # 定义batch大小\n",
    "\n",
    "n_inputs = 28                 # 图片 28*28，每行28\n",
    "n_steps = 28                   # 总行数28\n",
    "n_hidden_unis = 128           # 隐层神经元（neurons in hidden layer）\n",
    "n_classes = 10                # 分类 0~9\n",
    "\n",
    "# 输入\n",
    "x = tf.placeholder(tf.float32, [None, n_steps, n_inputs])\n",
    "y = tf.placeholder(tf.float32, [None, n_classes])\n",
    "\n",
    "# 定义权重和偏差\n",
    "weights = {\n",
    "    # （28， 128）\n",
    "    'in': tf.Variable(tf.random_normal([n_inputs, n_hidden_unis])),\n",
    "    # （128， 10）\n",
    "    'out': tf.Variable(tf.random_normal([n_hidden_unis, n_classes]))\n",
    "    }\n",
    "biases = {\n",
    "    # （128，）\n",
    "    'in': tf.Variable(tf.constant(0.1, shape=[n_hidden_unis,])),\n",
    "    # （10，）\n",
    "    'out': tf.Variable(tf.constant(0.1, shape=[n_classes,]))\n",
    "    }\n",
    "\n",
    "def RNN(X, weights, biases):\n",
    "    # hidden layer for input to cell\n",
    "    X =  tf.reshape(X, [-1, n_inputs])                     # X(128 batch, 28 steps, 28 inputs) ==> (128*28, 28 inputs)\n",
    "    X_in = tf.matmul(X, weights['in'])+biases['in']        # ==> X_in(128*28, 128 hidden)\n",
    "    X_in = tf.reshape(X_in, [-1, n_steps, n_hidden_unis])  # ==> X_in(128 batch, 28 steps, 128 hidden)\n",
    "    \n",
    "    # cell\n",
    "    # 初始forget_bias为1.0，不forget前面；state_is_tuple=True表示生成的state为元组\n",
    "    lstm_cell = tf.nn.rnn_cell.BasicLSTMCell(n_hidden_unis, forget_bias=1.0, state_is_tuple=True)  \n",
    "    # state：每一步计算的结果，lstm cell分为主线state和分线state：(c_state, m_state)\n",
    "    _init_state = lstm_cell.zero_state(batch_size, dtype=tf.float32)\n",
    "    # ime_major=False表示时间点不在维度为1的地方，本例中在X_in的次要维度，即28 steps，第2个维度\n",
    "    outputs, states = tf.nn.dynamic_rnn(lstm_cell, X_in, initial_state=_init_state, time_major=False)    # 运算\n",
    "    \n",
    "    # hidden layer for output as the final results\n",
    "    # results = tf.matmul(states[1], weights['out']+biases['out'])\n",
    "    # or\n",
    "    # 本例中states[1]=output[-1]，经过以下转变后，outputs中有28个元素（即28个步长，图片数据有28行），每个元素为[batch, outputs]\n",
    "    outputs = tf.unstack(tf.transpose(outputs, [1,0,2]))    # unpack to list[(batch, outputs)..] * steps\n",
    "    # outputs[-1]最后一个元素，即最后一个步长的计算的结果为最终结果\n",
    "    results = tf.matmul(outputs[-1], weights['out']+biases['out'])\n",
    "    \n",
    "    return results\n",
    "\n",
    "\n",
    "pred = RNN(x, weights, biases)\n",
    "cost = tf.reduce_mean(tf.nn.softmax_cross_entropy_with_logits(labels=y, logits=pred)) \n",
    "train_op = tf.train.AdamOptimizer(lr).minimize(cost)\n",
    "\n",
    "correct_pred = tf.equal(tf.argmax(pred, 1), tf.argmax(y, 1))\n",
    "accuracy = tf.reduce_mean(tf.cast(correct_pred, tf.float32))\n",
    "\n",
    "init = tf.initialize_all_variables()\n",
    "with tf.Session() as sess:\n",
    "    sess.run(init)\n",
    "    step = 0\n",
    "    while step*batch_size < training_iters:\n",
    "        batch_xs, batch_ys = mnist.train.next_batch(batch_size)\n",
    "        batch_xs = batch_xs.reshape([batch_size, n_steps, n_inputs])\n",
    "        sess.run([train_op], feed_dict={x: batch_xs, y: batch_ys})\n",
    "        if step%20 == 0:\n",
    "            print(sess.run(accuracy, feed_dict={x:batch_xs, y:batch_ys}))\n",
    "        step += 1"
   ]
  },
  {
   "cell_type": "code",
   "execution_count": null,
   "metadata": {},
   "outputs": [],
   "source": []
  },
  {
   "cell_type": "markdown",
   "metadata": {},
   "source": [
    "### tf.cast()\n",
    "将张量转换为一种新的数据类型"
   ]
  },
  {
   "cell_type": "markdown",
   "metadata": {},
   "source": [
    "### tf.equal(A, B)\n",
    "对比 A，B 这两个矩阵或者向量的元素，若相等则返回True，否则返回False"
   ]
  },
  {
   "cell_type": "code",
   "execution_count": 3,
   "metadata": {},
   "outputs": [
    {
     "name": "stdout",
     "output_type": "stream",
     "text": [
      "[ True  True  True False False False]\n"
     ]
    }
   ],
   "source": [
    "import tensorflow as tf\n",
    "\n",
    "X = [1,2,3,4,5,6]\n",
    "Y = [1,2,3,7,8,9]\n",
    "\n",
    "with tf.Session() as sess:\n",
    "    print(sess.run(tf.equal(X, Y)))"
   ]
  },
  {
   "cell_type": "markdown",
   "metadata": {},
   "source": [
    "### tf.argmax(X, axis)\n",
    "根据axis返回该维度的最大值的索引"
   ]
  },
  {
   "cell_type": "markdown",
   "metadata": {},
   "source": [
    "**示例**：\n",
    "1. axis=0，返回列最大值索引"
   ]
  },
  {
   "cell_type": "code",
   "execution_count": 7,
   "metadata": {},
   "outputs": [
    {
     "name": "stdout",
     "output_type": "stream",
     "text": [
      "[1 0 0]\n"
     ]
    }
   ],
   "source": [
    "X = [[1,2,3],\n",
    "     [3,2,1]\n",
    "    ]\n",
    "\n",
    "with tf.Session() as sess:\n",
    "    print(sess.run(tf.argmax(X, 0)))"
   ]
  },
  {
   "cell_type": "markdown",
   "metadata": {},
   "source": [
    "2. axis=1，返回行最大值索引"
   ]
  },
  {
   "cell_type": "code",
   "execution_count": 8,
   "metadata": {},
   "outputs": [
    {
     "name": "stdout",
     "output_type": "stream",
     "text": [
      "[2 0]\n"
     ]
    }
   ],
   "source": [
    "X = [[1,2,3],\n",
    "     [3,2,1]\n",
    "    ]\n",
    "\n",
    "with tf.Session() as sess:\n",
    "    print(sess.run(tf.argmax(X, 1)))"
   ]
  },
  {
   "cell_type": "markdown",
   "metadata": {},
   "source": [
    "### shape与reshape"
   ]
  },
  {
   "cell_type": "code",
   "execution_count": 16,
   "metadata": {},
   "outputs": [
    {
     "data": {
      "text/plain": [
       "(2, 3, 4)"
      ]
     },
     "execution_count": 16,
     "metadata": {},
     "output_type": "execute_result"
    }
   ],
   "source": [
    "import numpy as np\n",
    "\n",
    "X = np.array([[[1,2,3,4],\n",
    "               [5,4,3,8],\n",
    "               [9,10,11,12]],\n",
    "     \n",
    "              [[13,14,15,16],\n",
    "               [17,18,19,20],\n",
    "               [21,22,23,24]]\n",
    "])\n",
    "X.shape"
   ]
  },
  {
   "cell_type": "code",
   "execution_count": 19,
   "metadata": {},
   "outputs": [
    {
     "data": {
      "text/plain": [
       "array([[ 1,  2,  3,  4],\n",
       "       [ 5,  4,  3,  8],\n",
       "       [ 9, 10, 11, 12],\n",
       "       [13, 14, 15, 16],\n",
       "       [17, 18, 19, 20],\n",
       "       [21, 22, 23, 24]])"
      ]
     },
     "execution_count": 19,
     "metadata": {},
     "output_type": "execute_result"
    }
   ],
   "source": [
    "Y = X.reshape([-1,4])\n",
    "Y"
   ]
  },
  {
   "cell_type": "markdown",
   "metadata": {},
   "source": [
    "### tf.transpose(X, perm=None, name='transpose', conjugate=False)\n",
    "* X：需要变换的张量\n",
    "* perm：新的维度序列\n",
    "* name：（可选）操作名称\n",
    "* conjugate：（可选），设置为True，等价于tf.conj(tf.transpose())\n",
    "\n",
    "\n",
    "1. 二维"
   ]
  },
  {
   "cell_type": "code",
   "execution_count": 26,
   "metadata": {},
   "outputs": [
    {
     "name": "stdout",
     "output_type": "stream",
     "text": [
      "original:\n",
      " [[1 2 3]\n",
      " [4 5 6]]\n",
      "tranpose:\n",
      " [[1 4]\n",
      " [2 5]\n",
      " [3 6]]\n"
     ]
    }
   ],
   "source": [
    "import tensorflow as tf\n",
    "import numpy as np\n",
    " \n",
    "A = np.array([[1, 2, 3], [4, 5, 6]])\n",
    "X = tf.transpose(A, [1, 0])             # 相当于转置\n",
    " \n",
    "with tf.Session() as sess:\n",
    "    print('original:\\n',A)\n",
    "    print('tranpose:\\n',sess.run(X))"
   ]
  },
  {
   "cell_type": "markdown",
   "metadata": {},
   "source": [
    "2. 三维"
   ]
  },
  {
   "cell_type": "code",
   "execution_count": 38,
   "metadata": {},
   "outputs": [
    {
     "name": "stdout",
     "output_type": "stream",
     "text": [
      "original:\n",
      " [[[ 0  1]\n",
      "  [ 2  3]\n",
      "  [ 4  5]]\n",
      "\n",
      " [[ 6  7]\n",
      "  [ 8  9]\n",
      "  [10 11]]]\n",
      "A.shape： (2, 3, 2)\n",
      "==============================\n",
      "transpose [0,2,1]:\n",
      " [[[ 0  2  4]\n",
      "  [ 1  3  5]]\n",
      "\n",
      " [[ 6  8 10]\n",
      "  [ 7  9 11]]]\n",
      "X.shape： (2, 2, 3)\n",
      "==============================\n",
      "transpose [1,0,2]:\n",
      " [[[ 0  1]\n",
      "  [ 6  7]]\n",
      "\n",
      " [[ 2  3]\n",
      "  [ 8  9]]\n",
      "\n",
      " [[ 4  5]\n",
      "  [10 11]]]\n",
      "Y.shape： (3, 2, 2)\n"
     ]
    }
   ],
   "source": [
    "import tensorflow as tf\n",
    "import numpy as np\n",
    " \n",
    "A = np.arange(12).reshape([2,3,2])\n",
    "X = tf.transpose(A,[0,2,1])\n",
    "Y = tf.transpose(A,[1,0,2])\n",
    "with tf.Session() as sess:\n",
    "    print('original:\\n', A)\n",
    "    print('A.shape：', A.shape)\n",
    "    print('='*30)\n",
    "    \n",
    "    print('transpose [0,2,1]:\\n', sess.run(X))\n",
    "    print('X.shape：', X.shape)\n",
    "    print('='*30)\n",
    "    \n",
    "    print('transpose [1,0,2]:\\n', sess.run(Y))\n",
    "    print('Y.shape：', Y.shape)"
   ]
  },
  {
   "cell_type": "markdown",
   "metadata": {},
   "source": [
    "### X.shape 和 X.get_shape()\n",
    "* 获取张量的shape\n",
    "\n",
    "### 可采用 as_list() 转换为 list\n",
    "* X.shape.as_list()\n",
    "* X.get_shape().as_list()"
   ]
  },
  {
   "cell_type": "markdown",
   "metadata": {},
   "source": [
    "### tf.unstack(A, axis=0)\n",
    "* 拆分矩阵\n",
    "* axis=0，则按行拆分；axis=1，则按列拆分"
   ]
  },
  {
   "cell_type": "code",
   "execution_count": 55,
   "metadata": {},
   "outputs": [
    {
     "name": "stdout",
     "output_type": "stream",
     "text": [
      "[array([1, 2, 3]), array([4, 5, 6])]\n"
     ]
    }
   ],
   "source": [
    "import tensorflow as tf\n",
    " \n",
    "A = [[1, 2, 3], \n",
    "     [4, 5, 6]]\n",
    "X = tf.unstack(A, axis=0)\n",
    " \n",
    "with tf.Session() as sess:\n",
    "    print(sess.run(X))"
   ]
  },
  {
   "cell_type": "code",
   "execution_count": 53,
   "metadata": {},
   "outputs": [
    {
     "name": "stdout",
     "output_type": "stream",
     "text": [
      "[array([1, 4]), array([2, 5]), array([3, 6])]\n"
     ]
    }
   ],
   "source": [
    "import tensorflow as tf\n",
    " \n",
    "A = [[1, 2, 3], \n",
    "     [4, 5, 6]]\n",
    "X = tf.unstack(A, axis=1)\n",
    " \n",
    "with tf.Session() as sess:\n",
    "    print(sess.run(X))"
   ]
  },
  {
   "cell_type": "markdown",
   "metadata": {},
   "source": [
    "### tf.stack(A, axis=0)\n",
    "* 矩阵拼接\n",
    "* axis=0，则在维度0上拼接（第一个维度）；axis=1，则在维度1上拼接（第二个维度）"
   ]
  },
  {
   "cell_type": "code",
   "execution_count": 62,
   "metadata": {},
   "outputs": [
    {
     "name": "stdout",
     "output_type": "stream",
     "text": [
      "[[[ 1  2  3]\n",
      "  [ 4  5  6]]\n",
      "\n",
      " [[10 20 30]\n",
      "  [40 50 60]]]\n"
     ]
    }
   ],
   "source": [
    "import tensorflow as tf\n",
    " \n",
    "A = [[1, 2, 3], \n",
    "     [4, 5, 6]]\n",
    "B = [[10, 20, 30], \n",
    "     [40, 50, 60]]\n",
    "X = tf.stack([A, B], axis=0)    # 0维拼接\n",
    " \n",
    "with tf.Session() as sess:\n",
    "    print(sess.run(X))"
   ]
  },
  {
   "cell_type": "code",
   "execution_count": 59,
   "metadata": {},
   "outputs": [
    {
     "name": "stdout",
     "output_type": "stream",
     "text": [
      "[[[ 1  2  3]\n",
      "  [10 20 30]]\n",
      "\n",
      " [[ 4  5  6]\n",
      "  [40 50 60]]]\n"
     ]
    }
   ],
   "source": [
    "import tensorflow as tf\n",
    " \n",
    "A = [[1, 2, 3], \n",
    "     [4, 5, 6]]\n",
    "B = [[10, 20, 30], \n",
    "     [40, 50, 60]]\n",
    "X = tf.stack([A, B], axis=1)   # 1维拼接\n",
    " \n",
    "with tf.Session() as sess:\n",
    "    print(sess.run(X))"
   ]
  },
  {
   "cell_type": "code",
   "execution_count": 60,
   "metadata": {},
   "outputs": [
    {
     "name": "stdout",
     "output_type": "stream",
     "text": [
      "[[[ 1 10]\n",
      "  [ 2 20]\n",
      "  [ 3 30]]\n",
      "\n",
      " [[ 4 40]\n",
      "  [ 5 50]\n",
      "  [ 6 60]]]\n"
     ]
    }
   ],
   "source": [
    "import tensorflow as tf\n",
    " \n",
    "A = [[1, 2, 3], \n",
    "     [4, 5, 6]]\n",
    "B = [[10, 20, 30], \n",
    "     [40, 50, 60]]\n",
    "X = tf.stack([A, B], axis=2)   # 1维拼接\n",
    " \n",
    "with tf.Session() as sess:\n",
    "    print(sess.run(X))"
   ]
  }
 ],
 "metadata": {
  "kernelspec": {
   "display_name": "Python 3",
   "language": "python",
   "name": "python3"
  },
  "language_info": {
   "codemirror_mode": {
    "name": "ipython",
    "version": 3
   },
   "file_extension": ".py",
   "mimetype": "text/x-python",
   "name": "python",
   "nbconvert_exporter": "python",
   "pygments_lexer": "ipython3",
   "version": "3.7.0"
  }
 },
 "nbformat": 4,
 "nbformat_minor": 2
}
