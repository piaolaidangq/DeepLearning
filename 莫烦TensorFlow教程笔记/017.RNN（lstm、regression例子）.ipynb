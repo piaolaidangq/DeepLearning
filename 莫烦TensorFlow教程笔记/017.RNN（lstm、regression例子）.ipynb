{
 "cells": [
  {
   "cell_type": "markdown",
   "metadata": {},
   "source": [
    "### 普通版本RNN\n",
    "![gereral_RNN](gereral_RNN.PNG)\n",
    "### TensorFlow版本RNN\n",
    "![TensorFlow_RNN](TensorFlow_RNN.PNG)"
   ]
  },
  {
   "cell_type": "code",
   "execution_count": 66,
   "metadata": {},
   "outputs": [
    {
     "name": "stdout",
     "output_type": "stream",
     "text": [
      "Using matplotlib backend: Qt5Agg\n",
      "cost： 13.4159\n",
      "cost： 5.1304\n",
      "cost： 1.8306\n",
      "cost： 5.1235\n",
      "cost： 0.7821\n",
      "cost： 0.287\n",
      "cost： 0.0778\n",
      "cost： 0.048\n",
      "cost： 0.0388\n",
      "cost： 0.0247\n"
     ]
    }
   ],
   "source": [
    "import tensorflow as tf\n",
    "import numpy as np\n",
    "from keras import backend as K\n",
    "K.clear_session()          # 清除之前会话，防止jupyter缓存影响\n",
    "\n",
    "import matplotlib.pyplot as plt\n",
    "%matplotlib auto\n",
    "\n",
    "BATCH_START = 0\n",
    "TIME_STEPS = 20\n",
    "BATCH_SIZE = 50\n",
    "INPUT_SIZE = 1\n",
    "OUTPUT_SIZE = 1\n",
    "CELL_SIZE = 10\n",
    "LR = 0.006\n",
    "BATCH_START_TEST = 0\n",
    "\n",
    "def get_batch():\n",
    "    global BATCH_START, TIME_STEPS\n",
    "    # xs shape(50 batch, 20 steps)\n",
    "    # [0, 999].reshape((50, 20))/(10*np.pi)\n",
    "    xs = np.arange(BATCH_START, BATCH_START+TIME_STEPS*BATCH_SIZE).reshape((BATCH_SIZE, TIME_STEPS))/(10*np.pi)    \n",
    "    res = np.cos(xs)     # 真实值\n",
    "    seq = np.sin(xs)     # 预测值\n",
    "    BATCH_START += TIME_STEPS\n",
    "    # plt.plot(xs[0, :], res[0, :], 'r', xs[0, :], seq[0, :], 'b--')   # 红色实线为真实值，蓝色虚线为预测值\n",
    "    # plt.show()\n",
    "    \n",
    "    return [seq[:, :, np.newaxis], res[:, :, np.newaxis], xs]           \n",
    "\n",
    "class LSTMRNN:\n",
    "    def __init__(self, n_steps, input_size, output_size, cell_size, batch_size):\n",
    "        self.n_steps = n_steps\n",
    "        self.input_size = input_size\n",
    "        self.output_size = output_size\n",
    "        self.cell_size = cell_size\n",
    "        self.batch_size = batch_size\n",
    "        with tf.name_scope('inputs'):\n",
    "            self.xs = tf.placeholder(tf.float32, [None, n_steps, input_size], name='xs')\n",
    "            self.ys =tf.placeholder(tf.float32, [None, n_steps, input_size], name='ys')\n",
    "        with tf.variable_scope('in_hidden'):\n",
    "            self.add_input_layer()\n",
    "        with tf.variable_scope('LSTM_cell'):\n",
    "            self.add_cell()\n",
    "        with tf.variable_scope('out_hidden'):\n",
    "            self.add_output_layer()\n",
    "        with tf.name_scope('cost'):\n",
    "            self.compute_cost()\n",
    "        with tf.name_scope('train'):\n",
    "            self.train_op = tf.train.AdamOptimizer(LR).minimize(self.cost)\n",
    "            \n",
    "    def add_input_layer(self,):\n",
    "        l_in_x = tf.reshape(self.xs, [-1, self.input_size], name='2_2D')   # (batch*n_step, in_size)\n",
    "        Ws_in = self._weight_variable([self.input_size, self.cell_size])   # Ws(in_size, cell_size)\n",
    "        bs_in = self._bias_variable([self.cell_size,])                     # bs(cell_size,)\n",
    "        with tf.name_scope('Wx_plus_b'):\n",
    "            l_in_y = tf.matmul(l_in_x, Ws_in)+bs_in                        # l_in_y(batch*n_steps, cell_size)\n",
    "        self.l_in_y = tf.reshape(l_in_y, [-1, self.n_steps, self.cell_size], name='2_3D')  # reshape l_in_y ==> (batch, n_steps, cell_size)\n",
    "    \n",
    "    def add_cell(self):\n",
    "        lstm_cell = tf.nn.rnn_cell.BasicLSTMCell(self.cell_size, forget_bias=1.0, state_is_tuple=True)\n",
    "        with tf.name_scope('initial_state'):\n",
    "            self.cell_init_state = lstm_cell.zero_state(self.batch_size, dtype=tf.float32)\n",
    "            self.cell_outputs, self.cell_final_state = tf.nn.dynamic_rnn(\n",
    "                lstm_cell, self.l_in_y, initial_state=self.cell_init_state, time_major=False)\n",
    "            \n",
    "    \n",
    "    def add_output_layer(self):\n",
    "        l_out_x = tf.reshape(self.cell_outputs, [-1, self.cell_size], name='2_2D')   # (batch*steps, cell_size)\n",
    "        Ws_out = self._weight_variable([self.cell_size, self.output_size])  \n",
    "        bs_out = self._bias_variable([self.output_size,])                   \n",
    "        with tf.name_scope('Wx_plus_b'):\n",
    "            self.pred = tf.matmul(l_out_x, Ws_out)+bs_out                            # (batch*steps, output_size)\n",
    "       \n",
    "    def compute_cost(self):\n",
    "        losses = tf.contrib.legacy_seq2seq.sequence_loss_by_example(\n",
    "            [tf.reshape(self.pred, [-1], name='reshape_pred')],\n",
    "            [tf.reshape(self.ys, [-1], name='reshape_target')],\n",
    "            [tf.ones([self.batch_size*self.n_steps], dtype=tf.float32)],\n",
    "            average_across_timesteps = True,\n",
    "            softmax_loss_function = self.msr_error,\n",
    "            name = 'losses'\n",
    "            )\n",
    "        with tf.name_scope('average_cost'):\n",
    "            self.cost = tf.div(\n",
    "                tf.reduce_sum(losses, name='losses_sum'),\n",
    "                tf.cast(self.batch_size, tf.float32),\n",
    "                name = 'average_cost'\n",
    "                )\n",
    "            tf.summary.scalar('cost', self.cost)\n",
    "    \n",
    "    def msr_error(self, logits, labels):\n",
    "        return tf.square(tf.subtract(logits, labels))\n",
    "    \n",
    "    def _weight_variable(self, shape, name='weights'):\n",
    "        initializer = tf.random_normal_initializer(mean=0., stddev=1.,)\n",
    "        return tf.get_variable(shape=shape, initializer=initializer, name=name)\n",
    "    \n",
    "    def _bias_variable(self, shape, name='biases'):\n",
    "        initializer = tf.constant_initializer(0.1)\n",
    "        return tf.get_variable(shape=shape, initializer=initializer, name=name)\n",
    "    \n",
    "if __name__ == '__main__':\n",
    "    model = LSTMRNN(TIME_STEPS, INPUT_SIZE, OUTPUT_SIZE, CELL_SIZE, BATCH_SIZE)\n",
    "    sess = tf.Session()\n",
    "    merged = tf.summary.merge_all()\n",
    "    writer = tf.summary.FileWriter('017logs', sess.graph)\n",
    "    \n",
    "    sess.run(tf.initialize_all_variables())\n",
    "    plt.ion()\n",
    "    plt.show()\n",
    "    for i in range(200):\n",
    "        seq, res, xs = get_batch()    # 预测值、真实值、时间点（X）\n",
    "        if i == 0:\n",
    "            feed_dict = {model.xs:seq, model.ys:res,}\n",
    "        else:\n",
    "            feed_dict = {model.xs:seq, model.ys:res, model.cell_init_state:state}\n",
    "        \n",
    "        _, cost, state, pred = sess.run([model.train_op, model.cost, model.cell_final_state, model.pred], feed_dict=feed_dict)\n",
    "        \n",
    "        # 绘图\n",
    "        plt.plot(xs[0, :], res[0].flatten(), 'r', xs[0, :], pred.flatten()[:TIME_STEPS], 'b--')\n",
    "        plt.ylim((-1.2, 1.2))\n",
    "        plt.draw()\n",
    "        plt.pause(0.3)\n",
    "        \n",
    "        if i%20 == 0:\n",
    "            print('cost：', round(cost, 4))\n",
    "            result = sess.run(merged, feed_dict)\n",
    "            writer.add_summary(result, i)"
   ]
  },
  {
   "cell_type": "markdown",
   "metadata": {},
   "source": [
    "### cmd窗口下：\n",
    "> E:\n",
    "> \n",
    "> cd E:\\wk\\GithubProjects\\DeepLearning\\莫烦教程\n",
    ">\n",
    "> tensorboard --logdir=017logs/\n",
    "\n",
    "### 浏览器打开网址：\n",
    "http://WIN-Q2DQ03POEFR:6006/"
   ]
  },
  {
   "cell_type": "code",
   "execution_count": 50,
   "metadata": {},
   "outputs": [
    {
     "name": "stdout",
     "output_type": "stream",
     "text": [
      "Help on function sequence_loss_by_example in module tensorflow.contrib.legacy_seq2seq.python.ops.seq2seq:\n",
      "\n",
      "sequence_loss_by_example(logits, targets, weights, average_across_timesteps=True, softmax_loss_function=None, name=None)\n",
      "    Weighted cross-entropy loss for a sequence of logits (per example).\n",
      "    \n",
      "    Args:\n",
      "      logits: List of 2D Tensors of shape [batch_size x num_decoder_symbols].\n",
      "      targets: List of 1D batch-sized int32 Tensors of the same length as logits.\n",
      "      weights: List of 1D batch-sized float-Tensors of the same length as logits.\n",
      "      average_across_timesteps: If set, divide the returned cost by the total\n",
      "        label weight.\n",
      "      softmax_loss_function: Function (labels, logits) -> loss-batch to be used\n",
      "        instead of the standard softmax (the default if this is None). **Note that\n",
      "        to avoid confusion, it is required for the function to accept named\n",
      "        arguments.**\n",
      "      name: Optional name for this operation, default: \"sequence_loss_by_example\".\n",
      "    \n",
      "    Returns:\n",
      "      1D batch-sized float Tensor: The log-perplexity for each sequence.\n",
      "    \n",
      "    Raises:\n",
      "      ValueError: If len(logits) is different from len(targets) or len(weights).\n",
      "\n"
     ]
    }
   ],
   "source": [
    "help(tf.contrib.legacy_seq2seq.sequence_loss_by_example)"
   ]
  },
  {
   "cell_type": "markdown",
   "metadata": {},
   "source": [
    "### np.newaxis的\n",
    "在np.newaxis所在的位置增加一维"
   ]
  },
  {
   "cell_type": "code",
   "execution_count": 26,
   "metadata": {},
   "outputs": [
    {
     "name": "stdout",
     "output_type": "stream",
     "text": [
      "[1 2 3]\n",
      "[[1]\n",
      " [2]\n",
      " [3]]\n"
     ]
    }
   ],
   "source": [
    "import numpy as np\n",
    "\n",
    "X = np.array([1, 2, 3])\n",
    "print(X)\n",
    "print(X[:, np.newaxis])"
   ]
  },
  {
   "cell_type": "code",
   "execution_count": 27,
   "metadata": {},
   "outputs": [
    {
     "name": "stdout",
     "output_type": "stream",
     "text": [
      "[[1 2 3]]\n"
     ]
    }
   ],
   "source": [
    "print(X[np.newaxis, :])"
   ]
  },
  {
   "cell_type": "code",
   "execution_count": 28,
   "metadata": {},
   "outputs": [
    {
     "name": "stdout",
     "output_type": "stream",
     "text": [
      "[[1 2 3]\n",
      " [4 5 6]]\n",
      "[[[1]\n",
      "  [2]\n",
      "  [3]]\n",
      "\n",
      " [[4]\n",
      "  [5]\n",
      "  [6]]]\n"
     ]
    }
   ],
   "source": [
    "X = np.array([[1, 2, 3],\n",
    "              [4, 5, 6]\n",
    "             ])\n",
    "print(X)\n",
    "print(X[:, :, np.newaxis])"
   ]
  },
  {
   "cell_type": "code",
   "execution_count": 29,
   "metadata": {},
   "outputs": [
    {
     "name": "stdout",
     "output_type": "stream",
     "text": [
      "[[[1 2 3]]\n",
      "\n",
      " [[4 5 6]]]\n"
     ]
    }
   ],
   "source": [
    "print(X[:, np.newaxis, :])"
   ]
  },
  {
   "cell_type": "code",
   "execution_count": 30,
   "metadata": {},
   "outputs": [
    {
     "name": "stdout",
     "output_type": "stream",
     "text": [
      "[[[1 2 3]\n",
      "  [4 5 6]]]\n"
     ]
    }
   ],
   "source": [
    "print(X[np.newaxis, :, :])"
   ]
  },
  {
   "cell_type": "code",
   "execution_count": null,
   "metadata": {},
   "outputs": [],
   "source": []
  }
 ],
 "metadata": {
  "kernelspec": {
   "display_name": "Python 3",
   "language": "python",
   "name": "python3"
  },
  "language_info": {
   "codemirror_mode": {
    "name": "ipython",
    "version": 3
   },
   "file_extension": ".py",
   "mimetype": "text/x-python",
   "name": "python",
   "nbconvert_exporter": "python",
   "pygments_lexer": "ipython3",
   "version": "3.7.0"
  }
 },
 "nbformat": 4,
 "nbformat_minor": 2
}
