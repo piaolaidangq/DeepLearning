{
 "cells": [
  {
   "cell_type": "code",
   "execution_count": 17,
   "metadata": {},
   "outputs": [
    {
     "name": "stdout",
     "output_type": "stream",
     "text": [
      "Using matplotlib backend: Qt5Agg\n",
      "0.1478858\n",
      "0.008994929\n",
      "0.007633246\n",
      "0.007011192\n",
      "0.0065480727\n",
      "0.006172122\n",
      "0.005823248\n",
      "0.0055098664\n",
      "0.00521065\n",
      "0.0049330685\n",
      "0.0046577267\n",
      "0.0043761595\n",
      "0.004127769\n",
      "0.003931058\n",
      "0.0037605048\n",
      "0.0036210113\n",
      "0.0034932608\n",
      "0.003394943\n",
      "0.0033114976\n",
      "0.0032410352\n"
     ]
    },
    {
     "data": {
      "image/png": "[encoded data removed]",
      "text/plain": [
       "<Figure size 432x289 with 1 Axes>"
      ]
     },
     "metadata": {
      "needs_background": "light"
     },
     "output_type": "display_data"
    }
   ],
   "source": [
    "import tensorflow as tf\n",
    "import numpy as np\n",
    "import matplotlib.pylab as plt\n",
    "# 展示在网页中\n",
    "# %matplotlib inline   \n",
    "# 弹出展示的对话框，将最后结果展示到页面中，或%matplotlib auto\n",
    "%matplotlib\n",
    "\n",
    "def add_layer(inputs, in_size, out_size, activation_function=None):  # 默认激活函数为线性函数\n",
    "    Weights = tf.Variable(tf.random_normal([in_size, out_size]))  # in_size行，out_size列的随机数矩阵\n",
    "    biases = tf.Variable(tf.zeros([1, out_size]) + 0.1)   # 推荐biases不为0\n",
    "    Wx_plus_b = tf.matmul(inputs, Weights) + biases\n",
    "    if activation_function is None:\n",
    "        outputs = Wx_plus_b\n",
    "    else:\n",
    "        outputs = activation_function(Wx_plus_b)\n",
    "    return outputs\n",
    "\n",
    "# 数据\n",
    "x_data = np.linspace(-1, 1, 300)[:, np.newaxis]\n",
    "noise = np.random.normal(0, 0.05, x_data.shape)\n",
    "y_data = np.square(x_data) - 0.5 + noise\n",
    "\n",
    "# 定义传入值\n",
    "xs = tf.placeholder(tf.float32, [None,1])  # None表示无论输入多少个样例都可以，1表示x_data属性的维度\n",
    "ys = tf.placeholder(tf.float32, [None,1])\n",
    "\n",
    "# 输入层（1个属性，1个神经元），隐藏层（10个神经元），输出层（1个属性，1个神经元）\n",
    "l1 = add_layer(xs, 1, 10, activation_function=tf.nn.relu)   # 隐藏层\n",
    "prediction = add_layer(l1, 10, 1, activation_function=None)   # 输出层\n",
    "\n",
    "loss = tf.reduce_mean(tf.reduce_sum(tf.square(ys - prediction), reduction_indices=[1]))# 损失，求均值（求和（（真实值-预测值）平方））\n",
    "train_step = tf.train.GradientDescentOptimizer(0.1).minimize(loss)  # 优化器以0.1的学习率减小loss\n",
    "\n",
    "init = tf.initialize_all_variables()\n",
    "sess = tf.Session()\n",
    "sess.run(init)\n",
    "\n",
    "# 绘图\n",
    "fig = plt.figure()\n",
    "ax = fig.add_subplot(1, 1, 1)\n",
    "ax.scatter(x_data, y_data)           # 绘制真实数据图\n",
    "# plt.show()   # 展示一次暂停\n",
    "plt.ion()   # 连续展示图片，不暂停\n",
    "# plt.show(block=False)\n",
    "\n",
    "for i in range(1000):\n",
    "    sess.run(train_step, feed_dict={xs:x_data, ys:y_data})  # 用全部的数据来运算\n",
    "    if i%50==0:\n",
    "        print(sess.run(loss, feed_dict={xs:x_data, ys:y_data}))\n",
    "        # 先抹除上一条线，第一次时没有上一条线，则异常跳过\n",
    "        try:\n",
    "            ax.lines.remove(lines[0])    # 绘制第下一条线时，抹除上一条线，否则线条叠加密密麻麻\n",
    "        except Exception:\n",
    "            pass\n",
    "        prediction_value = sess.run(prediction, feed_dict={xs:x_data})\n",
    "        lines = ax.plot(x_data, prediction_value, 'r-', lw=5)   # 绘制红线，宽度为5，为训练50步时的预测结果曲线\n",
    "        plt.pause(0.2)   # 绘制完成时，暂停0.2秒"
   ]
  }
 ],
 "metadata": {
  "kernelspec": {
   "display_name": "Python 3",
   "language": "python",
   "name": "python3"
  },
  "language_info": {
   "codemirror_mode": {
    "name": "ipython",
    "version": 3
   },
   "file_extension": ".py",
   "mimetype": "text/x-python",
   "name": "python",
   "nbconvert_exporter": "python",
   "pygments_lexer": "ipython3",
   "version": "3.7.0"
  }
 },
 "nbformat": 4,
 "nbformat_minor": 2
}
