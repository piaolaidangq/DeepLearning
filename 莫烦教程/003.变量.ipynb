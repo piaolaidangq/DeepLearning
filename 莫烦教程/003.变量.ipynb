{
 "cells": [
  {
   "cell_type": "code",
   "execution_count": 1,
   "metadata": {},
   "outputs": [
    {
     "name": "stdout",
     "output_type": "stream",
     "text": [
      "counter:0\n"
     ]
    }
   ],
   "source": [
    "import tensorflow as tf\n",
    "\n",
    "state = tf.Variable(0, name='counter')   # 变量，初始值0，名字‘counter’\n",
    "print(state.name)"
   ]
  },
  {
   "cell_type": "code",
   "execution_count": 4,
   "metadata": {},
   "outputs": [
    {
     "name": "stderr",
     "output_type": "stream",
     "text": [
      "E0822 09:37:26.403982 22724 tf_should_use.py:71] ==================================\n",
      "Object was never used (type <class 'tensorflow.python.framework.ops.Operation'>):\n",
      "<tf.Operation 'init' type=NoOp>\n",
      "If you want to mark it as used call its \"mark_used()\" method.\n",
      "It was originally created here:\n",
      "  File \"E:\\wk\\anaconda3\\lib\\runpy.py\", line 193, in _run_module_as_main\n",
      "    \"__main__\", mod_spec)  File \"E:\\wk\\anaconda3\\lib\\runpy.py\", line 85, in _run_code\n",
      "    exec(code, run_globals)  File \"E:\\wk\\anaconda3\\lib\\site-packages\\ipykernel_launcher.py\", line 16, in <module>\n",
      "    app.launch_new_instance()  File \"E:\\wk\\anaconda3\\lib\\site-packages\\traitlets\\config\\application.py\", line 658, in launch_instance\n",
      "    app.start()  File \"E:\\wk\\anaconda3\\lib\\site-packages\\ipykernel\\kernelapp.py\", line 499, in start\n",
      "    self.io_loop.start()  File \"E:\\wk\\anaconda3\\lib\\site-packages\\tornado\\platform\\asyncio.py\", line 132, in start\n",
      "    self.asyncio_loop.run_forever()  File \"E:\\wk\\anaconda3\\lib\\asyncio\\base_events.py\", line 523, in run_forever\n",
      "    self._run_once()  File \"E:\\wk\\anaconda3\\lib\\asyncio\\base_events.py\", line 1759, in _run_once\n",
      "    handle = None  # Needed to break cycles when an exception occurs.  File \"E:\\wk\\anaconda3\\lib\\asyncio\\events.py\", line 101, in _run\n",
      "    self = None  # Needed to break cycles when an exception occurs.  File \"E:\\wk\\anaconda3\\lib\\site-packages\\tornado\\platform\\asyncio.py\", line 122, in _handle_events\n",
      "    handler_func(fileobj, events)  File \"E:\\wk\\anaconda3\\lib\\site-packages\\tornado\\stack_context.py\", line 302, in null_wrapper\n",
      "    _state.contexts = current_state  File \"E:\\wk\\anaconda3\\lib\\site-packages\\zmq\\eventloop\\zmqstream.py\", line 463, in _handle_events\n",
      "    raise  File \"E:\\wk\\anaconda3\\lib\\site-packages\\zmq\\eventloop\\zmqstream.py\", line 480, in _handle_recv\n",
      "    self._run_callback(callback, msg)  File \"E:\\wk\\anaconda3\\lib\\site-packages\\zmq\\eventloop\\zmqstream.py\", line 438, in _run_callback\n",
      "    raise  File \"E:\\wk\\anaconda3\\lib\\site-packages\\tornado\\stack_context.py\", line 302, in null_wrapper\n",
      "    _state.contexts = current_state  File \"E:\\wk\\anaconda3\\lib\\site-packages\\ipykernel\\kernelbase.py\", line 283, in dispatcher\n",
      "    return self.dispatch_shell(stream, msg)  File \"E:\\wk\\anaconda3\\lib\\site-packages\\ipykernel\\kernelbase.py\", line 241, in dispatch_shell\n",
      "    self._publish_status(u'idle')  File \"E:\\wk\\anaconda3\\lib\\site-packages\\ipykernel\\kernelbase.py\", line 421, in execute_request\n",
      "    self._abort_queues()  File \"E:\\wk\\anaconda3\\lib\\site-packages\\ipykernel\\ipkernel.py\", line 258, in do_execute\n",
      "    return reply_content  File \"E:\\wk\\anaconda3\\lib\\site-packages\\ipykernel\\zmqshell.py\", line 537, in run_cell\n",
      "    return super(ZMQInteractiveShell, self).run_cell(*args, **kwargs)  File \"E:\\wk\\anaconda3\\lib\\site-packages\\IPython\\core\\interactiveshell.py\", line 2667, in run_cell\n",
      "    return result  File \"E:\\wk\\anaconda3\\lib\\site-packages\\IPython\\core\\interactiveshell.py\", line 2801, in _run_cell\n",
      "    return result  File \"E:\\wk\\anaconda3\\lib\\site-packages\\IPython\\core\\interactiveshell.py\", line 2902, in run_ast_nodes\n",
      "    return True  File \"E:\\wk\\anaconda3\\lib\\site-packages\\IPython\\core\\interactiveshell.py\", line 2981, in run_code\n",
      "    return outflag  File \"<ipython-input-3-37ad6cc1ce44>\", line 6, in <module>\n",
      "    init = tf.initialize_all_variables()    # must have if define variable 初始化所有变量激活  File \"E:\\wk\\anaconda3\\lib\\site-packages\\tensorflow\\python\\util\\tf_should_use.py\", line 193, in wrapped\n",
      "    return _add_should_use_warning(fn(*args, **kwargs))\n",
      "==================================\n"
     ]
    },
    {
     "name": "stdout",
     "output_type": "stream",
     "text": [
      "1\n",
      "2\n",
      "3\n"
     ]
    }
   ],
   "source": [
    "one = tf.constant(1)  # 常量\n",
    "\n",
    "new_value = tf.add(state, one)         # +1\n",
    "update = tf.assign(state, new_value)    # 更新state\n",
    "\n",
    "init = tf.initialize_all_variables()    # must have if define variable 初始化所有变量激活\n",
    "\n",
    "with tf.Session() as sess:\n",
    "    sess.run(init)\n",
    "    for _ in range(3):\n",
    "        sess.run(update)\n",
    "        print(sess.run(state))"
   ]
  },
  {
   "cell_type": "markdown",
   "metadata": {},
   "source": [
    "**分析**：\n",
    "* 若定义变量，则初始化所有变量init = tf.initialize_all_variables()\n",
    "* 在sess中运行时sess.run(init)使初始变量生效"
   ]
  },
  {
   "cell_type": "code",
   "execution_count": null,
   "metadata": {},
   "outputs": [],
   "source": []
  }
 ],
 "metadata": {
  "kernelspec": {
   "display_name": "Python 3",
   "language": "python",
   "name": "python3"
  },
  "language_info": {
   "codemirror_mode": {
    "name": "ipython",
    "version": 3
   },
   "file_extension": ".py",
   "mimetype": "text/x-python",
   "name": "python",
   "nbconvert_exporter": "python",
   "pygments_lexer": "ipython3",
   "version": "3.7.0"
  }
 },
 "nbformat": 4,
 "nbformat_minor": 2
}
