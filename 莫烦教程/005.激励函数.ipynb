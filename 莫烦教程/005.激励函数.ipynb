{
 "cells": [
  {
   "cell_type": "markdown",
   "metadata": {},
   "source": [
    "### 激活函数\n",
    "* tf.nn.relu(features, name=None)\n",
    "* tf.nn.relu6(features, name=None)\n",
    "* tf.nn.elu(features, name=None)\n",
    "* tf.nn.softplus(feature, name=None)\n",
    "* tf.nn.softsign(feature, name=None)\n",
    "* tf.nn.dropout(x, keep_prob, noise_shape=None, seed=None, name=None)\n",
    "* tf.nn,bias_add(value, bias, data_format=None, name=None)\n",
    "* tf.sigmoid(x, name)\n",
    "* tf.tanh(x, name=None)"
   ]
  },
  {
   "cell_type": "code",
   "execution_count": null,
   "metadata": {},
   "outputs": [],
   "source": []
  },
  {
   "cell_type": "code",
   "execution_count": null,
   "metadata": {},
   "outputs": [],
   "source": []
  },
  {
   "cell_type": "code",
   "execution_count": null,
   "metadata": {},
   "outputs": [],
   "source": []
  },
  {
   "cell_type": "code",
   "execution_count": null,
   "metadata": {},
   "outputs": [],
   "source": []
  }
 ],
 "metadata": {
  "kernelspec": {
   "display_name": "Python 3",
   "language": "python",
   "name": "python3"
  },
  "language_info": {
   "codemirror_mode": {
    "name": "ipython",
    "version": 3
   },
   "file_extension": ".py",
   "mimetype": "text/x-python",
   "name": "python",
   "nbconvert_exporter": "python",
   "pygments_lexer": "ipython3",
   "version": "3.7.0"
  }
 },
 "nbformat": 4,
 "nbformat_minor": 2
}
