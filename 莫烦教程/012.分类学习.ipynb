{
 "cells": [
  {
   "cell_type": "markdown",
   "metadata": {},
   "source": [
    "### 识别图片数字\n",
    "* 图片 28×28 = 784"
   ]
  },
  {
   "cell_type": "code",
   "execution_count": 19,
   "metadata": {},
   "outputs": [
    {
     "name": "stdout",
     "output_type": "stream",
     "text": [
      "Extracting MNIST_data\\train-images-idx3-ubyte.gz\n",
      "Extracting MNIST_data\\train-labels-idx1-ubyte.gz\n",
      "Extracting MNIST_data\\t10k-images-idx3-ubyte.gz\n",
      "Extracting MNIST_data\\t10k-labels-idx1-ubyte.gz\n"
     ]
    },
    {
     "name": "stderr",
     "output_type": "stream",
     "text": [
      "W0823 20:50:30.053497  5944 deprecation.py:323] From E:\\wk\\anaconda3\\lib\\site-packages\\tensorflow\\python\\util\\tf_should_use.py:193: initialize_all_variables (from tensorflow.python.ops.variables) is deprecated and will be removed after 2017-03-02.\n",
      "Instructions for updating:\n",
      "Use `tf.global_variables_initializer` instead.\n"
     ]
    },
    {
     "name": "stdout",
     "output_type": "stream",
     "text": [
      "准确率： 0.1561\n",
      "准确率： 0.6486\n",
      "准确率： 0.7486\n",
      "准确率： 0.7892\n",
      "准确率： 0.8086\n",
      "准确率： 0.8254\n",
      "准确率： 0.8368\n",
      "准确率： 0.8402\n",
      "准确率： 0.8487\n",
      "准确率： 0.8502\n",
      "准确率： 0.8599\n",
      "准确率： 0.8592\n",
      "准确率： 0.8604\n",
      "准确率： 0.866\n",
      "准确率： 0.8677\n",
      "准确率： 0.8685\n",
      "准确率： 0.872\n",
      "准确率： 0.87\n",
      "准确率： 0.8685\n",
      "准确率： 0.8761\n"
     ]
    }
   ],
   "source": [
    "import tensorflow as tf\n",
    "from tensorflow.examples.tutorials.mnist import input_data\n",
    "from keras import backend as K\n",
    "K.clear_session()          # 清除之前会话，防止jupyter缓存影响\n",
    "\n",
    "mnist = input_data.read_data_sets('MNIST_data', one_hot=True)   # 加载数据（若无则从网上下载，如有则加载本地）\n",
    "\n",
    "def add_layer(inputs, in_size, out_size, activation_function=None):\n",
    "    '''添加神经网络层'''\n",
    "    Weights = tf.Variable(tf.random_normal([in_size, out_size]))\n",
    "    biases = tf.Variable(tf.zeros([1, out_size]) + 0.1)\n",
    "    Wx_plus_b = tf.matmul(inputs, Weights) + biases\n",
    "    if activation_function is None:\n",
    "        outputs = Wx_plus_b\n",
    "    else:\n",
    "        outputs = activation_function(Wx_plus_b)\n",
    "    return outputs\n",
    "\n",
    "def compute_accuracy(v_xs, v_ys):\n",
    "    global prediction\n",
    "    y_pre = sess.run(prediction, feed_dict={xs:v_xs})\n",
    "    correct_prediction = tf.equal(tf.argmax(y_pre, 1), tf.argmax(v_ys, 1))   # 对比真实值最大值的位置与预测值最大值的位置是否相同，1表示行\n",
    "    accuracy = tf.reduce_mean(tf.cast(correct_prediction, tf.float32))\n",
    "    result = sess.run(accuracy, feed_dict={xs:v_xs, ys:v_ys})\n",
    "    return result\n",
    "\n",
    "# 传入值\n",
    "xs = tf.placeholder(tf.float32, [None, 784]) # 28×28\n",
    "ys = tf.placeholder(tf.float32, [None, 10])  # 数字 0~9\n",
    "\n",
    "# 输出层\n",
    "prediction = add_layer(xs, 784, 10, activation_function=tf.nn.softmax)  # softmax 用于分类\n",
    "\n",
    "# 损失函数\n",
    "cross_entropy = tf.reduce_mean(-tf.reduce_sum(ys*tf.log(prediction), reduction_indices=[1]))\n",
    "\n",
    "# 训练优化器\n",
    "train_step = tf.train.GradientDescentOptimizer(0.5).minimize(cross_entropy)    \n",
    "\n",
    "sess = tf.Session()\n",
    "sess.run(tf.initialize_all_variables())\n",
    "\n",
    "for i in range(1000):\n",
    "    batch_xs, batch_ys = mnist.train.next_batch(100)    # 从整体数据中取出100个（不采用整体学习的方式，提高学习速度）\n",
    "    sess.run(train_step, feed_dict={xs:batch_xs, ys:batch_ys})\n",
    "    if i%50 == 0:\n",
    "        print('准确率：', compute_accuracy(mnist.test.images, mnist.test.labels))  "
   ]
  },
  {
   "cell_type": "code",
   "execution_count": null,
   "metadata": {},
   "outputs": [],
   "source": []
  },
  {
   "cell_type": "markdown",
   "metadata": {},
   "source": [
    "### reduction_indices\n",
    "* 指定维度\n",
    "* 二维数据中，0则为列运算，1则为行运算"
   ]
  },
  {
   "cell_type": "code",
   "execution_count": 11,
   "metadata": {},
   "outputs": [
    {
     "name": "stdout",
     "output_type": "stream",
     "text": [
      "[5 7 9]\n"
     ]
    }
   ],
   "source": [
    "import tensorflow as tf\n",
    "import numpy as np\n",
    "\n",
    "x = np.array([[1, 2, 3], \n",
    "              [4, 5, 6]])\n",
    "\n",
    "res = tf.reduce_sum(x, reduction_indices=[0])\n",
    "\n",
    "sess = tf.Session()\n",
    "print(sess.run(res))"
   ]
  },
  {
   "cell_type": "code",
   "execution_count": 12,
   "metadata": {},
   "outputs": [
    {
     "name": "stdout",
     "output_type": "stream",
     "text": [
      "[ 6 15]\n"
     ]
    }
   ],
   "source": [
    "res = tf.reduce_sum(x, reduction_indices=[1])\n",
    "\n",
    "sess = tf.Session()\n",
    "print(sess.run(res))"
   ]
  },
  {
   "cell_type": "markdown",
   "metadata": {},
   "source": [
    "### tf.argmax()\n",
    "* 参数为0时，结果为列最大值的索引\n",
    "* 参数为1时，结果为行最大值的索引\n",
    "* 以numpy.argmax()示例如下"
   ]
  },
  {
   "cell_type": "code",
   "execution_count": 5,
   "metadata": {},
   "outputs": [
    {
     "data": {
      "text/plain": [
       "array([3, 3, 1], dtype=int64)"
      ]
     },
     "execution_count": 5,
     "metadata": {},
     "output_type": "execute_result"
    }
   ],
   "source": [
    "import numpy as np\n",
    "\n",
    "test = np.array([[1, 2, 3], \n",
    "                 [2, 3, 4], \n",
    "                 [5, 4, 3], \n",
    "                 [8, 7, 2]])\n",
    "np.argmax(test, 0)"
   ]
  },
  {
   "cell_type": "code",
   "execution_count": 7,
   "metadata": {},
   "outputs": [
    {
     "data": {
      "text/plain": [
       "array([2, 2, 0, 0], dtype=int64)"
      ]
     },
     "execution_count": 7,
     "metadata": {},
     "output_type": "execute_result"
    }
   ],
   "source": [
    "np.argmax(test, 1)"
   ]
  },
  {
   "cell_type": "markdown",
   "metadata": {},
   "source": [
    "### tf.cast()\n",
    "* 数据类型转换\n",
    "* tf.cast(x, dtype, name=None)"
   ]
  }
 ],
 "metadata": {
  "kernelspec": {
   "display_name": "Python 3",
   "language": "python",
   "name": "python3"
  },
  "language_info": {
   "codemirror_mode": {
    "name": "ipython",
    "version": 3
   },
   "file_extension": ".py",
   "mimetype": "text/x-python",
   "name": "python",
   "nbconvert_exporter": "python",
   "pygments_lexer": "ipython3",
   "version": "3.7.0"
  }
 },
 "nbformat": 4,
 "nbformat_minor": 2
}
